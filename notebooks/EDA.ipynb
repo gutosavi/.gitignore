{
 "cells": [
  {
   "cell_type": "code",
   "execution_count": 1,
   "metadata": {},
   "outputs": [
    {
     "name": "stderr",
     "output_type": "stream",
     "text": [
      "2025-01-07 13:03:08.989 \n",
      "  \u001b[33m\u001b[1mWarning:\u001b[0m to view this Streamlit app on a browser, run it with the following\n",
      "  command:\n",
      "\n",
      "    streamlit run c:\\Users\\Usuário\\anaconda4\\Lib\\site-packages\\ipykernel_launcher.py [ARGUMENTS]\n"
     ]
    },
    {
     "data": {
      "text/plain": [
       "DeltaGenerator()"
      ]
     },
     "execution_count": 1,
     "metadata": {},
     "output_type": "execute_result"
    }
   ],
   "source": [
    "import streamlit as st\n",
    "import pandas as pd\n",
    "import plotly.express as px\n",
    "\n",
    "\n",
    "car_data = pd.read_csv('vehicles.csv')\n",
    "\n",
    "st.header(\"Análise de Dados de Veículos\")\n",
    "\n",
    "st.subheader(\"Exemplo de Dados\")\n",
    "st.write(car_data.head()) \n",
    "\n",
    "st.subheader(\"Histograma do Odomômetro\")\n",
    "fig_hist = px.histogram(car_data, x=\"odometer\", title=\"Distribuição do Odomômetro\")\n",
    "st.plotly_chart(fig_hist, use_container_width=True)\n",
    "\n",
    "st.markdown(\"---\") \n",
    "\n",
    "st.subheader(\"Gráfico de Dispersão: Odomômetro vs Preço\")\n",
    "fig_scatter = px.scatter(car_data, x=\"odometer\", y=\"price\", title=\"Odomômetro vs Preço\")\n",
    "st.plotly_chart(fig_scatter, use_container_width=True)"
   ]
  }
 ],
 "metadata": {
  "kernelspec": {
   "display_name": "base",
   "language": "python",
   "name": "python3"
  },
  "language_info": {
   "codemirror_mode": {
    "name": "ipython",
    "version": 3
   },
   "file_extension": ".py",
   "mimetype": "text/x-python",
   "name": "python",
   "nbconvert_exporter": "python",
   "pygments_lexer": "ipython3",
   "version": "3.12.7"
  }
 },
 "nbformat": 4,
 "nbformat_minor": 2
}
